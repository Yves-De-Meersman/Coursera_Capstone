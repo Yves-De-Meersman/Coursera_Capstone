{
 "cells": [
  {
   "cell_type": "markdown",
   "metadata": {},
   "source": [
    "# Capstone project Report\n",
    "\n",
    "\n",
    "## Problem:\n",
    "\n",
    "When a motorcyclist is booking a hotel, he wants to have as much scenic lookouts in the area as possible. \n",
    "We want to find the best locations where a motorcycle friendly hotel can be opened. \n",
    "The best locations define themselve as having:\n",
    "* A lot of scenic lookouts within a certain radius\n",
    "* The least amount of hotels nearby (to find an empty market)\n",
    "\n",
    "We need to be able to select a country for which we want to do a calculation of the most ideal locations.\n",
    "\n",
    "The stakeholder in this problem is the person wanting to open a new hotel for motorcyclists and the audience are the travellers.\n",
    "\n",
    "## Data:\n",
    "\n",
    "We will make use of the foursquare API to get the geographical locations of all the scenlic lookouts. We will find clusters where the most scenic lookouts are present.\n",
    "The location of these cluster centers will be used to find the place with the least hotels nearby. This will allow us to find the most suitable location to open a new motorcycle hotel.\n",
    "\n"
   ]
  },
  {
   "cell_type": "markdown",
   "metadata": {},
   "source": []
  }
 ],
 "metadata": {
  "kernelspec": {
   "display_name": "Python 3",
   "language": "python",
   "name": "python3"
  },
  "language_info": {
   "codemirror_mode": {
    "name": "ipython",
    "version": 3
   },
   "file_extension": ".py",
   "mimetype": "text/x-python",
   "name": "python",
   "nbconvert_exporter": "python",
   "pygments_lexer": "ipython3",
   "version": "3.7.7"
  }
 },
 "nbformat": 4,
 "nbformat_minor": 4
}
